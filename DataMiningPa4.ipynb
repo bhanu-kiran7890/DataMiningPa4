{
  "nbformat": 4,
  "nbformat_minor": 0,
  "metadata": {
    "colab": {
      "provenance": [],
      "gpuType": "T4"
    },
    "kernelspec": {
      "name": "python3",
      "display_name": "Python 3"
    },
    "language_info": {
      "name": "python"
    },
    "accelerator": "GPU"
  },
  "cells": [
    {
      "source": [
        "import os\n",
        "import torch\n",
        "from torchvision import models, transforms\n",
        "from PIL import Image\n",
        "from sklearn.decomposition import PCA\n",
        "from sklearn.cluster import KMeans, SpectralClustering, AgglomerativeClustering, DBSCAN\n",
        "from sklearn.cluster import BisectingKMeans\n",
        "from sklearn.metrics import fowlkes_mallows_score, silhouette_score\n",
        "\n",
        "dataset_dir = \"/content/drive/MyDrive/cropped\"\n",
        "\n",
        "model = models.resnet18(pretrained=True)\n",
        "model.eval()\n",
        "\n",
        "def extract_features(image_path):\n",
        "    transform = transforms.Compose([\n",
        "        transforms.Resize((224, 224)),\n",
        "        transforms.ToTensor(),\n",
        "        transforms.Normalize(mean=[0.485, 0.456, 0.406], std=[0.229, 0.224, 0.225]),\n",
        "    ])\n",
        "    image = Image.open(image_path).convert('RGB')\n",
        "    image = transform(image).unsqueeze(0)\n",
        "    with torch.no_grad():\n",
        "        features = model(image)\n",
        "    return features.flatten().numpy()\n",
        "\n",
        "features = []\n",
        "labels = []\n",
        "class_names = os.listdir(dataset_dir)\n",
        "for label, class_name in enumerate(class_names):\n",
        "    class_dir = os.path.join(dataset_dir, class_name)\n",
        "    for image_name in os.listdir(class_dir):\n",
        "        image_path = os.path.join(class_dir, image_name)\n",
        "        features.append(extract_features(image_path))\n",
        "        labels.append(label)\n",
        "\n",
        "pca = PCA(n_components=2)\n",
        "reduced_features = pca.fit_transform(features)\n",
        "\n",
        "kmeans_random = KMeans(n_clusters=4, init='random', random_state=42).fit(reduced_features)\n",
        "kmeans_plus = KMeans(n_clusters=4, init='k-means++', random_state=42).fit(reduced_features)\n",
        "\n",
        "bisect_kmeans = BisectingKMeans(n_clusters=4, random_state=42).fit(reduced_features)\n",
        "\n",
        "spectral = SpectralClustering(n_clusters=4, random_state=42, affinity='nearest_neighbors').fit(reduced_features)\n",
        "\n",
        "dbscan = DBSCAN(eps=0.5, min_samples=5).fit(reduced_features)\n",
        "\n",
        "agg_single = AgglomerativeClustering(n_clusters=4, linkage='single').fit(reduced_features)\n",
        "agg_complete = AgglomerativeClustering(n_clusters=4, linkage='complete').fit(reduced_features)\n",
        "agg_average = AgglomerativeClustering(n_clusters=4, linkage='average').fit(reduced_features)\n",
        "agg_ward = AgglomerativeClustering(n_clusters=4, linkage='ward').fit(reduced_features)\n",
        "\n",
        "methods = {\n",
        "    \"KMeans Random\": kmeans_random.labels_,\n",
        "    \"KMeans Plus\": kmeans_plus.labels_,\n",
        "    \"Bisecting KMeans\": bisect_kmeans.labels_,\n",
        "    \"Spectral\": spectral.labels_,\n",
        "    \"DBSCAN\": dbscan.labels_,\n",
        "    \"Agglomerative Single\": agg_single.labels_,\n",
        "    \"Agglomerative Complete\": agg_complete.labels_,\n",
        "    \"Agglomerative Average\": agg_average.labels_,\n",
        "    \"Agglomerative Ward\": agg_ward.labels_,\n",
        "}\n",
        "\n",
        "\n",
        "evaluation_results = {}\n",
        "for method, predicted_labels in methods.items():\n",
        "    fmi = fowlkes_mallows_score(labels, predicted_labels)\n",
        "    if len(np.unique(predicted_labels)) > 1:\n",
        "        silhouette = silhouette_score(reduced_features, predicted_labels)\n",
        "    else:\n",
        "        silhouette = -1\n",
        "    evaluation_results[method] = {\"FMI\": fmi, \"Silhouette\": silhouette}\n",
        "\n",
        "\n",
        "ranked_by_fmi = sorted(evaluation_results.items(), key=lambda x: x[1][\"FMI\"], reverse=True)\n",
        "ranked_by_silhouette = sorted(evaluation_results.items(), key=lambda x: x[1][\"Silhouette\"], reverse=True)\n",
        "\n",
        "print(\"Ranking by Fowlkes-Mallows Index:\")\n",
        "for rank, (method, scores) in enumerate(ranked_by_fmi, start=1):\n",
        "    print(f\"{rank}. {method}: FMI={scores['FMI']}\")\n",
        "\n",
        "print(\"\\nRanking by Silhouette Coefficient:\")\n",
        "for rank, (method, scores) in enumerate(ranked_by_silhouette, start=1):\n",
        "    print(f\"{rank}. {method}: Silhouette={scores['Silhouette']}\")\n"
      ],
      "cell_type": "code",
      "metadata": {
        "colab": {
          "base_uri": "https://localhost:8080/"
        },
        "id": "MalR2JU3Ebpl",
        "outputId": "a824d1d9-c72c-453e-d50e-a4a720ed2c9b"
      },
      "execution_count": null,
      "outputs": [
        {
          "output_type": "stream",
          "name": "stderr",
          "text": [
            "/usr/local/lib/python3.10/dist-packages/torchvision/models/_utils.py:208: UserWarning: The parameter 'pretrained' is deprecated since 0.13 and may be removed in the future, please use 'weights' instead.\n",
            "  warnings.warn(\n",
            "/usr/local/lib/python3.10/dist-packages/torchvision/models/_utils.py:223: UserWarning: Arguments other than a weight enum or `None` for 'weights' are deprecated since 0.13 and may be removed in the future. The current behavior is equivalent to passing `weights=ResNet18_Weights.IMAGENET1K_V1`. You can also use `weights=ResNet18_Weights.DEFAULT` to get the most up-to-date weights.\n",
            "  warnings.warn(msg)\n",
            "Downloading: \"https://download.pytorch.org/models/resnet18-f37072fd.pth\" to /root/.cache/torch/hub/checkpoints/resnet18-f37072fd.pth\n",
            "100%|██████████| 44.7M/44.7M [00:00<00:00, 102MB/s]\n"
          ]
        }
      ]
    }
  ]
}